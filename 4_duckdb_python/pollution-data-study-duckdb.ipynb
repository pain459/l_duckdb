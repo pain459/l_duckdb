{
 "cells": [
  {
   "cell_type": "markdown",
   "id": "34eb8d86",
   "metadata": {
    "papermill": {
     "duration": 0.00981,
     "end_time": "2023-11-13T02:34:29.154247",
     "exception": false,
     "start_time": "2023-11-13T02:34:29.144437",
     "status": "completed"
    },
    "tags": []
   },
   "source": [
    "### Installing DuckDB and magic_duckdb extension"
   ]
  },
  {
   "cell_type": "markdown",
   "id": "6f76b253",
   "metadata": {},
   "source": [
    "Download data from here:\n",
    "https://www.kaggle.com/datasets/catalystcooperative/pudl-project?select=hourly_emissions_epacems.parquet"
   ]
  },
  {
   "cell_type": "code",
   "execution_count": 1,
   "id": "8afe5265",
   "metadata": {},
   "outputs": [],
   "source": [
    "!python3 -m venv .duckvenv\n",
    "!source .duckvenv/bin/activate"
   ]
  },
  {
   "cell_type": "code",
   "execution_count": 2,
   "id": "2474d7f2",
   "metadata": {
    "execution": {
     "iopub.execute_input": "2023-11-13T02:34:29.175247Z",
     "iopub.status.busy": "2023-11-13T02:34:29.174461Z",
     "iopub.status.idle": "2023-11-13T02:34:45.911994Z",
     "shell.execute_reply": "2023-11-13T02:34:45.910341Z"
    },
    "papermill": {
     "duration": 16.751593,
     "end_time": "2023-11-13T02:34:45.915211",
     "exception": false,
     "start_time": "2023-11-13T02:34:29.163618",
     "status": "completed"
    },
    "tags": []
   },
   "outputs": [],
   "source": [
    "!pip install duckdb magic_duckdb polars plotly_express nbformat --quiet --user"
   ]
  },
  {
   "cell_type": "code",
   "execution_count": 20,
   "id": "f5405b1d",
   "metadata": {
    "execution": {
     "iopub.execute_input": "2023-11-13T02:35:00.776721Z",
     "iopub.status.busy": "2023-11-13T02:35:00.776303Z",
     "iopub.status.idle": "2023-11-13T02:35:02.514972Z",
     "shell.execute_reply": "2023-11-13T02:35:02.513816Z"
    },
    "papermill": {
     "duration": 1.752742,
     "end_time": "2023-11-13T02:35:02.517852",
     "exception": false,
     "start_time": "2023-11-13T02:35:00.765110",
     "status": "completed"
    },
    "tags": []
   },
   "outputs": [
    {
     "name": "stdout",
     "output_type": "stream",
     "text": [
      "The magic_duckdb extension is already loaded. To reload it, use:\n",
      "  %reload_ext magic_duckdb\n"
     ]
    }
   ],
   "source": [
    "import duckdb\n",
    "import pandas as pd\n",
    "import polars as pl\n",
    "import plotly_express as px\n",
    "\n",
    "%load_ext magic_duckdb"
   ]
  },
  {
   "cell_type": "markdown",
   "id": "eb5016a2",
   "metadata": {},
   "source": [
    "Read more about Polars here:\n",
    "https://pola.rs/#"
   ]
  },
  {
   "cell_type": "markdown",
   "id": "620268c0",
   "metadata": {
    "papermill": {
     "duration": 0.008972,
     "end_time": "2023-11-13T02:35:02.536347",
     "exception": false,
     "start_time": "2023-11-13T02:35:02.527375",
     "status": "completed"
    },
    "tags": []
   },
   "source": [
    "## Analyzing Data with DuckDB"
   ]
  },
  {
   "cell_type": "markdown",
   "id": "8f6799be",
   "metadata": {
    "papermill": {
     "duration": 0.008937,
     "end_time": "2023-11-13T02:35:02.554605",
     "exception": false,
     "start_time": "2023-11-13T02:35:02.545668",
     "status": "completed"
    },
    "tags": []
   },
   "source": [
    "### SQL queries using DuckDB:\n",
    "To run SQL queries in DuckDB we can directly use \".sql\", no need to create a connection to \":memory:\" \n",
    "\n",
    "Every DataFrame inside this notebook will be instantly available for DuckDB to make SQL queries against."
   ]
  },
  {
   "cell_type": "markdown",
   "id": "ccace552",
   "metadata": {},
   "source": [
    "### Starting with something simple "
   ]
  },
  {
   "cell_type": "code",
   "execution_count": 4,
   "id": "9b321b09",
   "metadata": {
    "execution": {
     "iopub.execute_input": "2023-11-13T02:35:02.575904Z",
     "iopub.status.busy": "2023-11-13T02:35:02.574635Z",
     "iopub.status.idle": "2023-11-13T02:35:02.582049Z",
     "shell.execute_reply": "2023-11-13T02:35:02.581256Z"
    },
    "papermill": {
     "duration": 0.020207,
     "end_time": "2023-11-13T02:35:02.584210",
     "exception": false,
     "start_time": "2023-11-13T02:35:02.564003",
     "status": "completed"
    },
    "tags": []
   },
   "outputs": [],
   "source": [
    "df = pd.DataFrame({\n",
    "    'column1': [1, 2, 3, 4, 5], \n",
    "    'column2': ['a', 'b', 'c', 'd', 'e'], \n",
    "})"
   ]
  },
  {
   "cell_type": "code",
   "execution_count": 5,
   "id": "76e7a0f0",
   "metadata": {
    "execution": {
     "iopub.execute_input": "2023-11-13T02:35:02.606749Z",
     "iopub.status.busy": "2023-11-13T02:35:02.605889Z",
     "iopub.status.idle": "2023-11-13T02:35:02.625817Z",
     "shell.execute_reply": "2023-11-13T02:35:02.624735Z"
    },
    "papermill": {
     "duration": 0.035293,
     "end_time": "2023-11-13T02:35:02.628948",
     "exception": false,
     "start_time": "2023-11-13T02:35:02.593655",
     "status": "completed"
    },
    "tags": []
   },
   "outputs": [
    {
     "data": {
      "text/html": [
       "<div>\n",
       "<style scoped>\n",
       "    .dataframe tbody tr th:only-of-type {\n",
       "        vertical-align: middle;\n",
       "    }\n",
       "\n",
       "    .dataframe tbody tr th {\n",
       "        vertical-align: top;\n",
       "    }\n",
       "\n",
       "    .dataframe thead th {\n",
       "        text-align: right;\n",
       "    }\n",
       "</style>\n",
       "<table border=\"1\" class=\"dataframe\">\n",
       "  <thead>\n",
       "    <tr style=\"text-align: right;\">\n",
       "      <th></th>\n",
       "      <th>column1</th>\n",
       "      <th>column2</th>\n",
       "    </tr>\n",
       "  </thead>\n",
       "  <tbody>\n",
       "    <tr>\n",
       "      <th>0</th>\n",
       "      <td>1</td>\n",
       "      <td>a</td>\n",
       "    </tr>\n",
       "    <tr>\n",
       "      <th>1</th>\n",
       "      <td>2</td>\n",
       "      <td>b</td>\n",
       "    </tr>\n",
       "    <tr>\n",
       "      <th>2</th>\n",
       "      <td>3</td>\n",
       "      <td>c</td>\n",
       "    </tr>\n",
       "    <tr>\n",
       "      <th>3</th>\n",
       "      <td>4</td>\n",
       "      <td>d</td>\n",
       "    </tr>\n",
       "    <tr>\n",
       "      <th>4</th>\n",
       "      <td>5</td>\n",
       "      <td>e</td>\n",
       "    </tr>\n",
       "  </tbody>\n",
       "</table>\n",
       "</div>"
      ],
      "text/plain": [
       "   column1 column2\n",
       "0        1       a\n",
       "1        2       b\n",
       "2        3       c\n",
       "3        4       d\n",
       "4        5       e"
      ]
     },
     "execution_count": 5,
     "metadata": {},
     "output_type": "execute_result"
    }
   ],
   "source": [
    "df.head()"
   ]
  },
  {
   "cell_type": "code",
   "execution_count": 6,
   "id": "cc1f6a14",
   "metadata": {
    "execution": {
     "iopub.execute_input": "2023-11-13T02:35:02.650583Z",
     "iopub.status.busy": "2023-11-13T02:35:02.650164Z",
     "iopub.status.idle": "2023-11-13T02:35:02.667825Z",
     "shell.execute_reply": "2023-11-13T02:35:02.666774Z"
    },
    "papermill": {
     "duration": 0.031869,
     "end_time": "2023-11-13T02:35:02.670638",
     "exception": false,
     "start_time": "2023-11-13T02:35:02.638769",
     "status": "completed"
    },
    "tags": []
   },
   "outputs": [
    {
     "data": {
      "text/plain": [
       "┌─────────┬─────────┐\n",
       "│ column1 │ column2 │\n",
       "│  int64  │ varchar │\n",
       "├─────────┼─────────┤\n",
       "│       1 │ a       │\n",
       "│       2 │ b       │\n",
       "│       3 │ c       │\n",
       "│       4 │ d       │\n",
       "│       5 │ e       │\n",
       "└─────────┴─────────┘"
      ]
     },
     "execution_count": 6,
     "metadata": {},
     "output_type": "execute_result"
    }
   ],
   "source": [
    "duckdb.sql('''\n",
    "SELECT * \n",
    "FROM df\n",
    "''')"
   ]
  },
  {
   "cell_type": "markdown",
   "id": "e58104a4",
   "metadata": {
    "papermill": {
     "duration": 0.010094,
     "end_time": "2023-11-13T02:35:02.690621",
     "exception": false,
     "start_time": "2023-11-13T02:35:02.680527",
     "status": "completed"
    },
    "tags": []
   },
   "source": [
    "- DuckDB was able to query our Pandas DataFrame without any extra steps\n",
    "\n",
    "- Let's go directly from \"FROM...\" leaving  \"SELECT *\" as a legacy"
   ]
  },
  {
   "cell_type": "code",
   "execution_count": 7,
   "id": "3d3fbf92",
   "metadata": {
    "execution": {
     "iopub.execute_input": "2023-11-13T02:35:02.712212Z",
     "iopub.status.busy": "2023-11-13T02:35:02.711807Z",
     "iopub.status.idle": "2023-11-13T02:35:02.727896Z",
     "shell.execute_reply": "2023-11-13T02:35:02.726742Z"
    },
    "papermill": {
     "duration": 0.029902,
     "end_time": "2023-11-13T02:35:02.730420",
     "exception": false,
     "start_time": "2023-11-13T02:35:02.700518",
     "status": "completed"
    },
    "tags": []
   },
   "outputs": [
    {
     "data": {
      "text/plain": [
       "┌─────────┬─────────┐\n",
       "│ column1 │ column2 │\n",
       "│  int64  │ varchar │\n",
       "├─────────┼─────────┤\n",
       "│       1 │ a       │\n",
       "│       2 │ b       │\n",
       "│       3 │ c       │\n",
       "│       4 │ d       │\n",
       "│       5 │ e       │\n",
       "└─────────┴─────────┘"
      ]
     },
     "execution_count": 7,
     "metadata": {},
     "output_type": "execute_result"
    }
   ],
   "source": [
    "duckdb.sql('''\n",
    "FROM df \n",
    "''')"
   ]
  },
  {
   "cell_type": "code",
   "execution_count": 7,
   "id": "5a607eae",
   "metadata": {
    "execution": {
     "iopub.execute_input": "2023-11-13T02:35:02.752558Z",
     "iopub.status.busy": "2023-11-13T02:35:02.752170Z",
     "iopub.status.idle": "2023-11-13T02:35:02.767196Z",
     "shell.execute_reply": "2023-11-13T02:35:02.766114Z"
    },
    "papermill": {
     "duration": 0.028919,
     "end_time": "2023-11-13T02:35:02.769547",
     "exception": false,
     "start_time": "2023-11-13T02:35:02.740628",
     "status": "completed"
    },
    "tags": []
   },
   "outputs": [
    {
     "data": {
      "text/plain": [
       "┌─────────┬─────────┐\n",
       "│ column1 │ column2 │\n",
       "│  int64  │ varchar │\n",
       "├─────────┼─────────┤\n",
       "│       1 │ a       │\n",
       "│       2 │ b       │\n",
       "│       3 │ c       │\n",
       "│       4 │ d       │\n",
       "│       5 │ e       │\n",
       "└─────────┴─────────┘"
      ]
     },
     "execution_count": 7,
     "metadata": {},
     "output_type": "execute_result"
    }
   ],
   "source": [
    "duckdb.sql('FROM df')"
   ]
  },
  {
   "cell_type": "markdown",
   "id": "9ee647a6",
   "metadata": {
    "papermill": {
     "duration": 0.010081,
     "end_time": "2023-11-13T02:35:02.789867",
     "exception": false,
     "start_time": "2023-11-13T02:35:02.779786",
     "status": "completed"
    },
    "tags": []
   },
   "source": [
    "We installed duckdb magic earlier and can now avoid repeating `duckdb.sql` and use:\n",
    "- `%dql` for single line queries \n",
    "&\n",
    "- `%%dql` for multiple lined queries instead"
   ]
  },
  {
   "cell_type": "code",
   "execution_count": 8,
   "id": "1e8e354d",
   "metadata": {
    "execution": {
     "iopub.execute_input": "2023-11-13T02:35:02.812019Z",
     "iopub.status.busy": "2023-11-13T02:35:02.811591Z",
     "iopub.status.idle": "2023-11-13T02:35:02.824666Z",
     "shell.execute_reply": "2023-11-13T02:35:02.823904Z"
    },
    "papermill": {
     "duration": 0.027388,
     "end_time": "2023-11-13T02:35:02.827431",
     "exception": false,
     "start_time": "2023-11-13T02:35:02.800043",
     "status": "completed"
    },
    "tags": []
   },
   "outputs": [
    {
     "data": {
      "text/html": [
       "<div>\n",
       "<style scoped>\n",
       "    .dataframe tbody tr th:only-of-type {\n",
       "        vertical-align: middle;\n",
       "    }\n",
       "\n",
       "    .dataframe tbody tr th {\n",
       "        vertical-align: top;\n",
       "    }\n",
       "\n",
       "    .dataframe thead th {\n",
       "        text-align: right;\n",
       "    }\n",
       "</style>\n",
       "<table border=\"1\" class=\"dataframe\">\n",
       "  <thead>\n",
       "    <tr style=\"text-align: right;\">\n",
       "      <th></th>\n",
       "      <th>column1</th>\n",
       "      <th>column2</th>\n",
       "    </tr>\n",
       "  </thead>\n",
       "  <tbody>\n",
       "    <tr>\n",
       "      <th>0</th>\n",
       "      <td>1</td>\n",
       "      <td>a</td>\n",
       "    </tr>\n",
       "    <tr>\n",
       "      <th>1</th>\n",
       "      <td>2</td>\n",
       "      <td>b</td>\n",
       "    </tr>\n",
       "    <tr>\n",
       "      <th>2</th>\n",
       "      <td>3</td>\n",
       "      <td>c</td>\n",
       "    </tr>\n",
       "    <tr>\n",
       "      <th>3</th>\n",
       "      <td>4</td>\n",
       "      <td>d</td>\n",
       "    </tr>\n",
       "    <tr>\n",
       "      <th>4</th>\n",
       "      <td>5</td>\n",
       "      <td>e</td>\n",
       "    </tr>\n",
       "  </tbody>\n",
       "</table>\n",
       "</div>"
      ],
      "text/plain": [
       "   column1 column2\n",
       "0        1       a\n",
       "1        2       b\n",
       "2        3       c\n",
       "3        4       d\n",
       "4        5       e"
      ]
     },
     "execution_count": 8,
     "metadata": {},
     "output_type": "execute_result"
    }
   ],
   "source": [
    "%%dql\n",
    "FROM df\n",
    "SELECT *"
   ]
  },
  {
   "cell_type": "code",
   "execution_count": 9,
   "id": "8c3ddfa7",
   "metadata": {
    "execution": {
     "iopub.execute_input": "2023-11-13T02:35:02.850337Z",
     "iopub.status.busy": "2023-11-13T02:35:02.849916Z",
     "iopub.status.idle": "2023-11-13T02:35:02.861859Z",
     "shell.execute_reply": "2023-11-13T02:35:02.860899Z"
    },
    "papermill": {
     "duration": 0.026131,
     "end_time": "2023-11-13T02:35:02.864262",
     "exception": false,
     "start_time": "2023-11-13T02:35:02.838131",
     "status": "completed"
    },
    "tags": []
   },
   "outputs": [
    {
     "data": {
      "text/html": [
       "<div>\n",
       "<style scoped>\n",
       "    .dataframe tbody tr th:only-of-type {\n",
       "        vertical-align: middle;\n",
       "    }\n",
       "\n",
       "    .dataframe tbody tr th {\n",
       "        vertical-align: top;\n",
       "    }\n",
       "\n",
       "    .dataframe thead th {\n",
       "        text-align: right;\n",
       "    }\n",
       "</style>\n",
       "<table border=\"1\" class=\"dataframe\">\n",
       "  <thead>\n",
       "    <tr style=\"text-align: right;\">\n",
       "      <th></th>\n",
       "      <th>column1</th>\n",
       "      <th>column2</th>\n",
       "    </tr>\n",
       "  </thead>\n",
       "  <tbody>\n",
       "    <tr>\n",
       "      <th>0</th>\n",
       "      <td>1</td>\n",
       "      <td>a</td>\n",
       "    </tr>\n",
       "    <tr>\n",
       "      <th>1</th>\n",
       "      <td>2</td>\n",
       "      <td>b</td>\n",
       "    </tr>\n",
       "    <tr>\n",
       "      <th>2</th>\n",
       "      <td>3</td>\n",
       "      <td>c</td>\n",
       "    </tr>\n",
       "    <tr>\n",
       "      <th>3</th>\n",
       "      <td>4</td>\n",
       "      <td>d</td>\n",
       "    </tr>\n",
       "    <tr>\n",
       "      <th>4</th>\n",
       "      <td>5</td>\n",
       "      <td>e</td>\n",
       "    </tr>\n",
       "  </tbody>\n",
       "</table>\n",
       "</div>"
      ],
      "text/plain": [
       "   column1 column2\n",
       "0        1       a\n",
       "1        2       b\n",
       "2        3       c\n",
       "3        4       d\n",
       "4        5       e"
      ]
     },
     "execution_count": 9,
     "metadata": {},
     "output_type": "execute_result"
    }
   ],
   "source": [
    "%dql FROM df"
   ]
  },
  {
   "cell_type": "markdown",
   "id": "9d2e6616",
   "metadata": {
    "papermill": {
     "duration": 0.010418,
     "end_time": "2023-11-13T02:35:02.885296",
     "exception": false,
     "start_time": "2023-11-13T02:35:02.874878",
     "status": "completed"
    },
    "tags": []
   },
   "source": [
    "Note that by using the magic_duckdb extension, our queries return a Pandas DataFrame, meaning we are still making use of the \"lazyness\" of DuckDB during the query, but then immediately bringing the query result entirely to memory.\n",
    "\n",
    "To avoid this, we can set the type of return by using \"-t\" followed by the type, choosing from \"df\", \"arrow\", \"pl\", \"describe\", \"show\" and \"relation\"."
   ]
  },
  {
   "cell_type": "code",
   "execution_count": 10,
   "id": "da6f26ae",
   "metadata": {
    "execution": {
     "iopub.execute_input": "2023-11-13T02:35:02.908434Z",
     "iopub.status.busy": "2023-11-13T02:35:02.908040Z",
     "iopub.status.idle": "2023-11-13T02:35:02.917400Z",
     "shell.execute_reply": "2023-11-13T02:35:02.916011Z"
    },
    "papermill": {
     "duration": 0.0239,
     "end_time": "2023-11-13T02:35:02.919773",
     "exception": false,
     "start_time": "2023-11-13T02:35:02.895873",
     "status": "completed"
    },
    "tags": []
   },
   "outputs": [
    {
     "name": "stdout",
     "output_type": "stream",
     "text": [
      "┌─────────┬─────────┐\n",
      "│ column1 │ column2 │\n",
      "│  int64  │ varchar │\n",
      "├─────────┼─────────┤\n",
      "│       1 │ a       │\n",
      "│       2 │ b       │\n",
      "│       3 │ c       │\n",
      "│       4 │ d       │\n",
      "│       5 │ e       │\n",
      "└─────────┴─────────┘\n",
      "\n"
     ]
    }
   ],
   "source": [
    "%%dql -t show \n",
    "FROM df\n",
    "SELECT *"
   ]
  },
  {
   "cell_type": "markdown",
   "id": "771b249d",
   "metadata": {
    "papermill": {
     "duration": 0.010394,
     "end_time": "2023-11-13T02:35:02.940987",
     "exception": false,
     "start_time": "2023-11-13T02:35:02.930593",
     "status": "completed"
    },
    "tags": []
   },
   "source": [
    "We can also change the default behavior by passing the \"cell magic + type\" without a query.\n",
    "\n",
    "Let's set the extension default to DuckDB's default using the type \"show\"."
   ]
  },
  {
   "cell_type": "code",
   "execution_count": 11,
   "id": "c7552291",
   "metadata": {
    "execution": {
     "iopub.execute_input": "2023-11-13T02:35:02.964776Z",
     "iopub.status.busy": "2023-11-13T02:35:02.963870Z",
     "iopub.status.idle": "2023-11-13T02:35:02.969643Z",
     "shell.execute_reply": "2023-11-13T02:35:02.968506Z"
    },
    "papermill": {
     "duration": 0.0205,
     "end_time": "2023-11-13T02:35:02.972148",
     "exception": false,
     "start_time": "2023-11-13T02:35:02.951648",
     "status": "completed"
    },
    "tags": []
   },
   "outputs": [],
   "source": [
    "%dql -t show"
   ]
  },
  {
   "cell_type": "code",
   "execution_count": 12,
   "id": "e7452892",
   "metadata": {
    "execution": {
     "iopub.execute_input": "2023-11-13T02:35:02.996284Z",
     "iopub.status.busy": "2023-11-13T02:35:02.995882Z",
     "iopub.status.idle": "2023-11-13T02:35:03.005246Z",
     "shell.execute_reply": "2023-11-13T02:35:03.004020Z"
    },
    "papermill": {
     "duration": 0.023428,
     "end_time": "2023-11-13T02:35:03.007420",
     "exception": false,
     "start_time": "2023-11-13T02:35:02.983992",
     "status": "completed"
    },
    "tags": []
   },
   "outputs": [
    {
     "name": "stdout",
     "output_type": "stream",
     "text": [
      "┌─────────┬─────────┐\n",
      "│ column1 │ column2 │\n",
      "│  int64  │ varchar │\n",
      "├─────────┼─────────┤\n",
      "│       1 │ a       │\n",
      "│       2 │ b       │\n",
      "│       3 │ c       │\n",
      "│       4 │ d       │\n",
      "│       5 │ e       │\n",
      "└─────────┴─────────┘\n",
      "\n"
     ]
    }
   ],
   "source": [
    "%%dql\n",
    "FROM df\n",
    "SELECT *"
   ]
  },
  {
   "cell_type": "markdown",
   "id": "283b44ae",
   "metadata": {
    "execution": {
     "iopub.execute_input": "2023-11-13T02:13:15.100428Z",
     "iopub.status.busy": "2023-11-13T02:13:15.099824Z",
     "iopub.status.idle": "2023-11-13T02:13:15.109463Z",
     "shell.execute_reply": "2023-11-13T02:13:15.107609Z",
     "shell.execute_reply.started": "2023-11-13T02:13:15.100399Z"
    },
    "papermill": {
     "duration": 0.010694,
     "end_time": "2023-11-13T02:35:03.029437",
     "exception": false,
     "start_time": "2023-11-13T02:35:03.018743",
     "status": "completed"
    },
    "tags": []
   },
   "source": [
    "### Doing 'Big Data' analysis. Bigger than RAM!\n",
    "- DuckDB can also connect directly to files like CSV/Parquet\n",
    "\n",
    "- We have a __huge__ file with emmissions: let's start working with it\n",
    "- For starters, let's take advantage of DuckDB's \"lazyness\" and count the rows while avoiding loading all data into machine's memory"
   ]
  },
  {
   "cell_type": "code",
   "execution_count": 13,
   "id": "1fb39f14",
   "metadata": {},
   "outputs": [
    {
     "name": "stdout",
     "output_type": "stream",
     "text": [
      "/Users/migumax/Documents/My_projects/Udemy/duckdb/cases/4.duckdb_python_case1\n"
     ]
    }
   ],
   "source": [
    "!pwd"
   ]
  },
  {
   "cell_type": "code",
   "execution_count": 13,
   "id": "546a4c41",
   "metadata": {
    "execution": {
     "iopub.execute_input": "2023-11-13T02:35:03.053555Z",
     "iopub.status.busy": "2023-11-13T02:35:03.052791Z",
     "iopub.status.idle": "2023-11-13T02:35:03.447506Z",
     "shell.execute_reply": "2023-11-13T02:35:03.446347Z"
    },
    "papermill": {
     "duration": 0.411381,
     "end_time": "2023-11-13T02:35:03.451797",
     "exception": false,
     "start_time": "2023-11-13T02:35:03.040416",
     "status": "completed"
    },
    "tags": []
   },
   "outputs": [
    {
     "name": "stdout",
     "output_type": "stream",
     "text": [
      "┌──────────────┐\n",
      "│ count_star() │\n",
      "│    int64     │\n",
      "├──────────────┤\n",
      "│    897900912 │\n",
      "└──────────────┘\n",
      "\n"
     ]
    }
   ],
   "source": [
    "%%dql\n",
    "SELECT COUNT(*) \n",
    "FROM 'hourly_emissions_epacems.parquet'"
   ]
  },
  {
   "cell_type": "markdown",
   "id": "3a9c4d8c",
   "metadata": {
    "papermill": {
     "duration": 0.010644,
     "end_time": "2023-11-13T02:35:03.473484",
     "exception": false,
     "start_time": "2023-11-13T02:35:03.462840",
     "status": "completed"
    },
    "tags": []
   },
   "source": [
    "We could instantly count all those 897 million rows. It's like querying a database.\n",
    "\n",
    "Let's now do 3 cool things: \n",
    "- get a number of descriptive statistics using avg & max filtering data from just one state\n",
    "- do the same thing using Pandas\n",
    "-compare execution time"
   ]
  },
  {
   "cell_type": "code",
   "execution_count": 14,
   "id": "7c368e1d",
   "metadata": {
    "execution": {
     "iopub.execute_input": "2023-11-13T02:35:03.497411Z",
     "iopub.status.busy": "2023-11-13T02:35:03.496730Z",
     "iopub.status.idle": "2023-11-13T02:35:13.472652Z",
     "shell.execute_reply": "2023-11-13T02:35:13.470051Z"
    },
    "papermill": {
     "duration": 9.990917,
     "end_time": "2023-11-13T02:35:13.475430",
     "exception": false,
     "start_time": "2023-11-13T02:35:03.484513",
     "status": "completed"
    },
    "tags": []
   },
   "outputs": [
    {
     "name": "stdout",
     "output_type": "stream",
     "text": [
      "┌───────────────────────┬───────────────────┐\n",
      "│ average_co2_emmission │ max_co2_emmission │\n",
      "│        double         │       float       │\n",
      "├───────────────────────┼───────────────────┤\n",
      "│     163.3414263103803 │            1047.0 │\n",
      "└───────────────────────┴───────────────────┘\n",
      "\n",
      "CPU times: user 363 ms, sys: 21 ms, total: 383 ms\n",
      "Wall time: 144 ms\n"
     ]
    }
   ],
   "source": [
    "%%time\n",
    "%%dql\n",
    "SELECT avg(co2_mass_tons) as average_co2_emmission, max(co2_mass_tons) as max_co2_emmission\n",
    "FROM 'hourly_emissions_epacems.parquet'\n",
    "WHERE state = 'CO'"
   ]
  },
  {
   "cell_type": "code",
   "execution_count": 15,
   "id": "189b486b",
   "metadata": {},
   "outputs": [
    {
     "name": "stdout",
     "output_type": "stream",
     "text": [
      "163.34154 1047.0\n",
      "CPU times: user 10.8 s, sys: 5.69 s, total: 16.5 s\n",
      "Wall time: 12.1 s\n"
     ]
    }
   ],
   "source": [
    "%%time\n",
    "df = pd.read_parquet('hourly_emissions_epacems.parquet', engine='pyarrow', columns=['state', 'co2_mass_tons'])\n",
    "print(df[df['state']=='CO']['co2_mass_tons'].mean(), df[df['state']=='CO']['co2_mass_tons'].max())"
   ]
  },
  {
   "cell_type": "markdown",
   "id": "e7f1c08f",
   "metadata": {
    "papermill": {
     "duration": 0.013956,
     "end_time": "2023-11-13T02:35:13.500874",
     "exception": false,
     "start_time": "2023-11-13T02:35:13.486918",
     "status": "completed"
    },
    "tags": []
   },
   "source": [
    "we can also display descriptive stats as a polars DataFrame"
   ]
  },
  {
   "cell_type": "code",
   "execution_count": 16,
   "id": "a30164f1",
   "metadata": {
    "execution": {
     "iopub.execute_input": "2023-11-13T02:35:13.526395Z",
     "iopub.status.busy": "2023-11-13T02:35:13.525881Z",
     "iopub.status.idle": "2023-11-13T02:35:23.404005Z",
     "shell.execute_reply": "2023-11-13T02:35:23.402803Z"
    },
    "papermill": {
     "duration": 9.894285,
     "end_time": "2023-11-13T02:35:23.406606",
     "exception": false,
     "start_time": "2023-11-13T02:35:13.512321",
     "status": "completed"
    },
    "tags": []
   },
   "outputs": [
    {
     "name": "stdout",
     "output_type": "stream",
     "text": [
      "CPU times: user 14.7 s, sys: 511 ms, total: 15.2 s\n",
      "Wall time: 3.55 s\n"
     ]
    },
    {
     "data": {
      "text/html": [
       "<div><style>\n",
       ".dataframe > thead > tr,\n",
       ".dataframe > tbody > tr {\n",
       "  text-align: right;\n",
       "  white-space: pre-wrap;\n",
       "}\n",
       "</style>\n",
       "<small>shape: (16, 12)</small><table border=\"1\" class=\"dataframe\"><thead><tr><th>column_name</th><th>column_type</th><th>min</th><th>max</th><th>approx_unique</th><th>avg</th><th>std</th><th>q25</th><th>q50</th><th>q75</th><th>count</th><th>null_percentage</th></tr><tr><td>str</td><td>str</td><td>str</td><td>str</td><td>str</td><td>str</td><td>str</td><td>str</td><td>str</td><td>str</td><td>i64</td><td>str</td></tr></thead><tbody><tr><td>&quot;plant_id_eia&quot;</td><td>&quot;INTEGER&quot;</td><td>&quot;465&quot;</td><td>&quot;56998&quot;</td><td>&quot;28&quot;</td><td>&quot;24658.32472912…</td><td>&quot;25346.15655705…</td><td>&quot;514&quot;</td><td>&quot;7068&quot;</td><td>&quot;55383&quot;</td><td>13631472</td><td>&quot;0.0%&quot;</td></tr><tr><td>&quot;plant_id_epa&quot;</td><td>&quot;INTEGER&quot;</td><td>&quot;465&quot;</td><td>&quot;56998&quot;</td><td>&quot;28&quot;</td><td>&quot;24658.32472912…</td><td>&quot;25346.15655705…</td><td>&quot;514&quot;</td><td>&quot;7068&quot;</td><td>&quot;55383&quot;</td><td>13631472</td><td>&quot;0.0%&quot;</td></tr><tr><td>&quot;emissions_unit…</td><td>&quot;VARCHAR&quot;</td><td>&quot;1&quot;</td><td>&quot;S005&quot;</td><td>&quot;46&quot;</td><td>null</td><td>null</td><td>null</td><td>null</td><td>null</td><td>13631472</td><td>&quot;0.0%&quot;</td></tr><tr><td>&quot;operating_date…</td><td>&quot;TIMESTAMP WITH…</td><td>&quot;1997-01-01 08:…</td><td>&quot;2023-01-01 07:…</td><td>&quot;223988&quot;</td><td>null</td><td>null</td><td>null</td><td>null</td><td>null</td><td>13631472</td><td>&quot;0.0%&quot;</td></tr><tr><td>&quot;year&quot;</td><td>&quot;INTEGER&quot;</td><td>&quot;1997&quot;</td><td>&quot;2022&quot;</td><td>&quot;26&quot;</td><td>&quot;2011.085133579…</td><td>&quot;6.882159196243…</td><td>&quot;2006&quot;</td><td>&quot;2011&quot;</td><td>&quot;2017&quot;</td><td>13631472</td><td>&quot;0.0%&quot;</td></tr><tr><td>&quot;state&quot;</td><td>&quot;VARCHAR&quot;</td><td>&quot;CO&quot;</td><td>&quot;CO&quot;</td><td>&quot;1&quot;</td><td>null</td><td>null</td><td>null</td><td>null</td><td>null</td><td>13631472</td><td>&quot;0.0%&quot;</td></tr><tr><td>&quot;operating_time…</td><td>&quot;FLOAT&quot;</td><td>&quot;0.0&quot;</td><td>&quot;1.0&quot;</td><td>&quot;87&quot;</td><td>&quot;0.480804509913…</td><td>&quot;0.497078261513…</td><td>&quot;0.0&quot;</td><td>&quot;0.028526293769…</td><td>&quot;1.0&quot;</td><td>13631472</td><td>&quot;0.64%&quot;</td></tr><tr><td>&quot;gross_load_mw&quot;</td><td>&quot;FLOAT&quot;</td><td>&quot;0.0&quot;</td><td>&quot;872.0&quot;</td><td>&quot;858&quot;</td><td>&quot;176.3127930569…</td><td>&quot;145.8933029163…</td><td>&quot;47.40620709755…</td><td>&quot;139.8958239993…</td><td>&quot;263.9244419968…</td><td>13631472</td><td>&quot;51.84%&quot;</td></tr><tr><td>&quot;heat_content_m…</td><td>&quot;FLOAT&quot;</td><td>&quot;0.0&quot;</td><td>&quot;99999.9&quot;</td><td>&quot;172279&quot;</td><td>&quot;1722.750898236…</td><td>&quot;1469.610654624…</td><td>&quot;546.0258684088…</td><td>&quot;1296.553674891…</td><td>&quot;2482.671305558…</td><td>13631472</td><td>&quot;51.45%&quot;</td></tr><tr><td>&quot;steam_load_100…</td><td>&quot;FLOAT&quot;</td><td>&quot;0.0&quot;</td><td>&quot;840.0&quot;</td><td>&quot;758&quot;</td><td>&quot;121.6804076004…</td><td>&quot;82.32774880403…</td><td>&quot;80.45645962713…</td><td>&quot;105.6249764467…</td><td>&quot;139.5210972480…</td><td>13631472</td><td>&quot;99.22%&quot;</td></tr><tr><td>&quot;so2_mass_lbs&quot;</td><td>&quot;FLOAT&quot;</td><td>&quot;0.0&quot;</td><td>&quot;11630.8&quot;</td><td>&quot;110570&quot;</td><td>&quot;382.5783396846…</td><td>&quot;665.0883125749…</td><td>&quot;0.642612558299…</td><td>&quot;176.4718971203…</td><td>&quot;426.1362051833…</td><td>13631472</td><td>&quot;51.45%&quot;</td></tr><tr><td>&quot;so2_mass_measu…</td><td>&quot;VARCHAR&quot;</td><td>&quot;LME&quot;</td><td>&quot;Unknown Code&quot;</td><td>&quot;5&quot;</td><td>null</td><td>null</td><td>null</td><td>null</td><td>null</td><td>13631472</td><td>&quot;51.45%&quot;</td></tr><tr><td>&quot;nox_mass_lbs&quot;</td><td>&quot;FLOAT&quot;</td><td>&quot;0.0&quot;</td><td>&quot;74999.92&quot;</td><td>&quot;1374925&quot;</td><td>&quot;396.1585876688…</td><td>&quot;467.2909438483…</td><td>&quot;26.05618722879…</td><td>&quot;226.4628200255…</td><td>&quot;611.3627675359…</td><td>13631472</td><td>&quot;51.48%&quot;</td></tr><tr><td>&quot;nox_mass_measu…</td><td>&quot;VARCHAR&quot;</td><td>&quot;Calculated&quot;</td><td>&quot;Unknown Code&quot;</td><td>&quot;6&quot;</td><td>null</td><td>null</td><td>null</td><td>null</td><td>null</td><td>13631472</td><td>&quot;51.83%&quot;</td></tr><tr><td>&quot;co2_mass_tons&quot;</td><td>&quot;FLOAT&quot;</td><td>&quot;0.0&quot;</td><td>&quot;1047.0&quot;</td><td>&quot;53732&quot;</td><td>&quot;163.3414263103…</td><td>&quot;156.3682041697…</td><td>&quot;49.70583234154…</td><td>&quot;100.9821103512…</td><td>&quot;253.6732970080…</td><td>13631472</td><td>&quot;51.45%&quot;</td></tr><tr><td>&quot;co2_mass_measu…</td><td>&quot;VARCHAR&quot;</td><td>&quot;LME&quot;</td><td>&quot;Unknown Code&quot;</td><td>&quot;6&quot;</td><td>null</td><td>null</td><td>null</td><td>null</td><td>null</td><td>13631472</td><td>&quot;51.45%&quot;</td></tr></tbody></table></div>"
      ],
      "text/plain": [
       "shape: (16, 12)\n",
       "┌───────────┬───────────┬───────────┬───────────┬───┬───────────┬───────────┬──────────┬───────────┐\n",
       "│ column_na ┆ column_ty ┆ min       ┆ max       ┆ … ┆ q50       ┆ q75       ┆ count    ┆ null_perc │\n",
       "│ me        ┆ pe        ┆ ---       ┆ ---       ┆   ┆ ---       ┆ ---       ┆ ---      ┆ entage    │\n",
       "│ ---       ┆ ---       ┆ str       ┆ str       ┆   ┆ str       ┆ str       ┆ i64      ┆ ---       │\n",
       "│ str       ┆ str       ┆           ┆           ┆   ┆           ┆           ┆          ┆ str       │\n",
       "╞═══════════╪═══════════╪═══════════╪═══════════╪═══╪═══════════╪═══════════╪══════════╪═══════════╡\n",
       "│ plant_id_ ┆ INTEGER   ┆ 465       ┆ 56998     ┆ … ┆ 7068      ┆ 55383     ┆ 13631472 ┆ 0.0%      │\n",
       "│ eia       ┆           ┆           ┆           ┆   ┆           ┆           ┆          ┆           │\n",
       "│ plant_id_ ┆ INTEGER   ┆ 465       ┆ 56998     ┆ … ┆ 7068      ┆ 55383     ┆ 13631472 ┆ 0.0%      │\n",
       "│ epa       ┆           ┆           ┆           ┆   ┆           ┆           ┆          ┆           │\n",
       "│ emissions ┆ VARCHAR   ┆ 1         ┆ S005      ┆ … ┆ null      ┆ null      ┆ 13631472 ┆ 0.0%      │\n",
       "│ _unit_id_ ┆           ┆           ┆           ┆   ┆           ┆           ┆          ┆           │\n",
       "│ epa       ┆           ┆           ┆           ┆   ┆           ┆           ┆          ┆           │\n",
       "│ operating ┆ TIMESTAMP ┆ 1997-01-0 ┆ 2023-01-0 ┆ … ┆ null      ┆ null      ┆ 13631472 ┆ 0.0%      │\n",
       "│ _datetime ┆ WITH TIME ┆ 1 08:00:0 ┆ 1 07:00:0 ┆   ┆           ┆           ┆          ┆           │\n",
       "│ _utc      ┆ ZONE      ┆ 0+01      ┆ 0+01      ┆   ┆           ┆           ┆          ┆           │\n",
       "│ …         ┆ …         ┆ …         ┆ …         ┆ … ┆ …         ┆ …         ┆ …        ┆ …         │\n",
       "│ nox_mass_ ┆ FLOAT     ┆ 0.0       ┆ 74999.92  ┆ … ┆ 226.46282 ┆ 611.36276 ┆ 13631472 ┆ 51.48%    │\n",
       "│ lbs       ┆           ┆           ┆           ┆   ┆ 002558152 ┆ 75359918  ┆          ┆           │\n",
       "│ nox_mass_ ┆ VARCHAR   ┆ Calculate ┆ Unknown   ┆ … ┆ null      ┆ null      ┆ 13631472 ┆ 51.83%    │\n",
       "│ measureme ┆           ┆ d         ┆ Code      ┆   ┆           ┆           ┆          ┆           │\n",
       "│ nt_code   ┆           ┆           ┆           ┆   ┆           ┆           ┆          ┆           │\n",
       "│ co2_mass_ ┆ FLOAT     ┆ 0.0       ┆ 1047.0    ┆ … ┆ 100.98211 ┆ 253.67329 ┆ 13631472 ┆ 51.45%    │\n",
       "│ tons      ┆           ┆           ┆           ┆   ┆ 035122517 ┆ 700803216 ┆          ┆           │\n",
       "│ co2_mass_ ┆ VARCHAR   ┆ LME       ┆ Unknown   ┆ … ┆ null      ┆ null      ┆ 13631472 ┆ 51.45%    │\n",
       "│ measureme ┆           ┆           ┆ Code      ┆   ┆           ┆           ┆          ┆           │\n",
       "│ nt_code   ┆           ┆           ┆           ┆   ┆           ┆           ┆          ┆           │\n",
       "└───────────┴───────────┴───────────┴───────────┴───┴───────────┴───────────┴──────────┴───────────┘"
      ]
     },
     "execution_count": 16,
     "metadata": {},
     "output_type": "execute_result"
    }
   ],
   "source": [
    "%%time\n",
    "%%dql -t pl\n",
    "SUMMARIZE \n",
    "SELECT * \n",
    "FROM 'hourly_emissions_epacems.parquet'\n",
    "WHERE state = 'CO'"
   ]
  },
  {
   "cell_type": "markdown",
   "id": "9898d6cf",
   "metadata": {
    "papermill": {
     "duration": 0.012003,
     "end_time": "2023-11-13T02:35:23.431110",
     "exception": false,
     "start_time": "2023-11-13T02:35:23.419107",
     "status": "completed"
    },
    "tags": []
   },
   "source": [
    "Now let's group some data so we can create a visualization.\n",
    "\n",
    "To store the query output into a variable, we can use \"-o\" followed by the variable name. Let's save it as a Polars DataFrame to the variable \"df_gb\"."
   ]
  },
  {
   "cell_type": "code",
   "execution_count": 17,
   "id": "92d15801",
   "metadata": {
    "execution": {
     "iopub.execute_input": "2023-11-13T02:35:23.457072Z",
     "iopub.status.busy": "2023-11-13T02:35:23.456640Z",
     "iopub.status.idle": "2023-11-13T02:35:25.881878Z",
     "shell.execute_reply": "2023-11-13T02:35:25.880670Z"
    },
    "papermill": {
     "duration": 2.441493,
     "end_time": "2023-11-13T02:35:25.884680",
     "exception": false,
     "start_time": "2023-11-13T02:35:23.443187",
     "status": "completed"
    },
    "tags": []
   },
   "outputs": [
    {
     "name": "stdout",
     "output_type": "stream",
     "text": [
      "CPU times: user 3.2 s, sys: 114 ms, total: 3.31 s\n",
      "Wall time: 713 ms\n"
     ]
    },
    {
     "data": {
      "text/html": [
       "<div><style>\n",
       ".dataframe > thead > tr,\n",
       ".dataframe > tbody > tr {\n",
       "  text-align: right;\n",
       "  white-space: pre-wrap;\n",
       "}\n",
       "</style>\n",
       "<small>shape: (624, 3)</small><table border=\"1\" class=\"dataframe\"><thead><tr><th>year</th><th>hour</th><th>co2</th></tr><tr><td>i32</td><td>i64</td><td>f64</td></tr></thead><tbody><tr><td>1998</td><td>23</td><td>1.6670e6</td></tr><tr><td>1998</td><td>4</td><td>1.6827e6</td></tr><tr><td>2006</td><td>12</td><td>1.7824e6</td></tr><tr><td>2006</td><td>20</td><td>2.0245e6</td></tr><tr><td>2006</td><td>3</td><td>2.0348e6</td></tr><tr><td>2006</td><td>6</td><td>1.9517e6</td></tr><tr><td>2013</td><td>23</td><td>1.9156e6</td></tr><tr><td>2013</td><td>4</td><td>1.9145e6</td></tr><tr><td>2009</td><td>21</td><td>1.8847e6</td></tr><tr><td>2009</td><td>1</td><td>1.9094e6</td></tr><tr><td>2001</td><td>8</td><td>1.7815e6</td></tr><tr><td>2001</td><td>13</td><td>1.7521e6</td></tr><tr><td>&hellip;</td><td>&hellip;</td><td>&hellip;</td></tr><tr><td>2004</td><td>8</td><td>1.8093e6</td></tr><tr><td>2004</td><td>13</td><td>1.7920e6</td></tr><tr><td>2004</td><td>19</td><td>1.9568e6</td></tr><tr><td>2004</td><td>7</td><td>1.8516e6</td></tr><tr><td>2012</td><td>12</td><td>1.5580e6</td></tr><tr><td>2012</td><td>20</td><td>1.9163e6</td></tr><tr><td>2012</td><td>3</td><td>1.9630e6</td></tr><tr><td>2012</td><td>6</td><td>1.7724e6</td></tr><tr><td>2020</td><td>8</td><td>1.1960e6</td></tr><tr><td>2020</td><td>13</td><td>1.2308e6</td></tr><tr><td>2020</td><td>19</td><td>1.3797e6</td></tr><tr><td>2020</td><td>7</td><td>1.2400e6</td></tr></tbody></table></div>"
      ],
      "text/plain": [
       "shape: (624, 3)\n",
       "┌──────┬──────┬──────────┐\n",
       "│ year ┆ hour ┆ co2      │\n",
       "│ ---  ┆ ---  ┆ ---      │\n",
       "│ i32  ┆ i64  ┆ f64      │\n",
       "╞══════╪══════╪══════════╡\n",
       "│ 1998 ┆ 23   ┆ 1.6670e6 │\n",
       "│ 1998 ┆ 4    ┆ 1.6827e6 │\n",
       "│ 2006 ┆ 12   ┆ 1.7824e6 │\n",
       "│ 2006 ┆ 20   ┆ 2.0245e6 │\n",
       "│ …    ┆ …    ┆ …        │\n",
       "│ 2020 ┆ 8    ┆ 1.1960e6 │\n",
       "│ 2020 ┆ 13   ┆ 1.2308e6 │\n",
       "│ 2020 ┆ 19   ┆ 1.3797e6 │\n",
       "│ 2020 ┆ 7    ┆ 1.2400e6 │\n",
       "└──────┴──────┴──────────┘"
      ]
     },
     "execution_count": 17,
     "metadata": {},
     "output_type": "execute_result"
    }
   ],
   "source": [
    "%%time\n",
    "%%dql -t pl -o df_gb\n",
    "SELECT \n",
    "    year, \n",
    "    hour(operating_datetime_utc) AS hour, \n",
    "    SUM(co2_mass_tons) AS co2, \n",
    "FROM 'hourly_emissions_epacems.parquet'\n",
    "WHERE state = 'CO'\n",
    "GROUP BY ALL"
   ]
  },
  {
   "cell_type": "code",
   "execution_count": null,
   "id": "d7bfb3bd",
   "metadata": {
    "papermill": {
     "duration": 0.013365,
     "end_time": "2023-11-13T02:35:28.394263",
     "exception": false,
     "start_time": "2023-11-13T02:35:28.380898",
     "status": "completed"
    },
    "tags": []
   },
   "outputs": [],
   "source": []
  }
 ],
 "metadata": {
  "kernelspec": {
   "display_name": "Python 3 (ipykernel)",
   "language": "python",
   "name": "python3"
  },
  "language_info": {
   "codemirror_mode": {
    "name": "ipython",
    "version": 3
   },
   "file_extension": ".py",
   "mimetype": "text/x-python",
   "name": "python",
   "nbconvert_exporter": "python",
   "pygments_lexer": "ipython3",
   "version": "3.10.13"
  },
  "papermill": {
   "default_parameters": {},
   "duration": 63.440365,
   "end_time": "2023-11-13T02:35:29.131027",
   "environment_variables": {},
   "exception": null,
   "input_path": "__notebook__.ipynb",
   "output_path": "__notebook__.ipynb",
   "parameters": {},
   "start_time": "2023-11-13T02:34:25.690662",
   "version": "2.4.0"
  },
  "widgets": {
   "application/vnd.jupyter.widget-state+json": {
    "state": {
     "003fb92d1b4f46a0b7f2f84c16a6d040": {
      "model_module": "@jupyter-widgets/controls",
      "model_module_version": "1.5.0",
      "model_name": "FloatProgressModel",
      "state": {
       "_dom_classes": [],
       "_model_module": "@jupyter-widgets/controls",
       "_model_module_version": "1.5.0",
       "_model_name": "FloatProgressModel",
       "_view_count": null,
       "_view_module": "@jupyter-widgets/controls",
       "_view_module_version": "1.5.0",
       "_view_name": "ProgressView",
       "bar_style": "",
       "description": "",
       "description_tooltip": null,
       "layout": "IPY_MODEL_bd8e882a876c490cbbed0e87b47195f6",
       "max": 100,
       "min": 0,
       "orientation": "horizontal",
       "style": "IPY_MODEL_0f0edde2962e43e8a958fa8b141e281d",
       "value": 100
      }
     },
     "0f0edde2962e43e8a958fa8b141e281d": {
      "model_module": "@jupyter-widgets/controls",
      "model_module_version": "1.5.0",
      "model_name": "ProgressStyleModel",
      "state": {
       "_model_module": "@jupyter-widgets/controls",
       "_model_module_version": "1.5.0",
       "_model_name": "ProgressStyleModel",
       "_view_count": null,
       "_view_module": "@jupyter-widgets/base",
       "_view_module_version": "1.2.0",
       "_view_name": "StyleView",
       "bar_color": "black",
       "description_width": ""
      }
     },
     "532bc91b170e41b3a629468eea9597e0": {
      "model_module": "@jupyter-widgets/controls",
      "model_module_version": "1.5.0",
      "model_name": "ProgressStyleModel",
      "state": {
       "_model_module": "@jupyter-widgets/controls",
       "_model_module_version": "1.5.0",
       "_model_name": "ProgressStyleModel",
       "_view_count": null,
       "_view_module": "@jupyter-widgets/base",
       "_view_module_version": "1.2.0",
       "_view_name": "StyleView",
       "bar_color": "black",
       "description_width": ""
      }
     },
     "7916d1d878c94b0fa620cd24ba70cc6d": {
      "model_module": "@jupyter-widgets/controls",
      "model_module_version": "1.5.0",
      "model_name": "FloatProgressModel",
      "state": {
       "_dom_classes": [],
       "_model_module": "@jupyter-widgets/controls",
       "_model_module_version": "1.5.0",
       "_model_name": "FloatProgressModel",
       "_view_count": null,
       "_view_module": "@jupyter-widgets/controls",
       "_view_module_version": "1.5.0",
       "_view_name": "ProgressView",
       "bar_style": "",
       "description": "",
       "description_tooltip": null,
       "layout": "IPY_MODEL_a0844f1634b840ffb01457c3e71cdde8",
       "max": 100,
       "min": 0,
       "orientation": "horizontal",
       "style": "IPY_MODEL_83dc9071519742f796fbcf7e710edd13",
       "value": 100
      }
     },
     "83dc9071519742f796fbcf7e710edd13": {
      "model_module": "@jupyter-widgets/controls",
      "model_module_version": "1.5.0",
      "model_name": "ProgressStyleModel",
      "state": {
       "_model_module": "@jupyter-widgets/controls",
       "_model_module_version": "1.5.0",
       "_model_name": "ProgressStyleModel",
       "_view_count": null,
       "_view_module": "@jupyter-widgets/base",
       "_view_module_version": "1.2.0",
       "_view_name": "StyleView",
       "bar_color": "black",
       "description_width": ""
      }
     },
     "a0844f1634b840ffb01457c3e71cdde8": {
      "model_module": "@jupyter-widgets/base",
      "model_module_version": "1.2.0",
      "model_name": "LayoutModel",
      "state": {
       "_model_module": "@jupyter-widgets/base",
       "_model_module_version": "1.2.0",
       "_model_name": "LayoutModel",
       "_view_count": null,
       "_view_module": "@jupyter-widgets/base",
       "_view_module_version": "1.2.0",
       "_view_name": "LayoutView",
       "align_content": null,
       "align_items": null,
       "align_self": null,
       "border": null,
       "bottom": null,
       "display": null,
       "flex": null,
       "flex_flow": null,
       "grid_area": null,
       "grid_auto_columns": null,
       "grid_auto_flow": null,
       "grid_auto_rows": null,
       "grid_column": null,
       "grid_gap": null,
       "grid_row": null,
       "grid_template_areas": null,
       "grid_template_columns": null,
       "grid_template_rows": null,
       "height": null,
       "justify_content": null,
       "justify_items": null,
       "left": null,
       "margin": null,
       "max_height": null,
       "max_width": null,
       "min_height": null,
       "min_width": null,
       "object_fit": null,
       "object_position": null,
       "order": null,
       "overflow": null,
       "overflow_x": null,
       "overflow_y": null,
       "padding": null,
       "right": null,
       "top": null,
       "visibility": null,
       "width": "auto"
      }
     },
     "b45572af1bb340ee953203269545e738": {
      "model_module": "@jupyter-widgets/controls",
      "model_module_version": "1.5.0",
      "model_name": "FloatProgressModel",
      "state": {
       "_dom_classes": [],
       "_model_module": "@jupyter-widgets/controls",
       "_model_module_version": "1.5.0",
       "_model_name": "FloatProgressModel",
       "_view_count": null,
       "_view_module": "@jupyter-widgets/controls",
       "_view_module_version": "1.5.0",
       "_view_name": "ProgressView",
       "bar_style": "",
       "description": "",
       "description_tooltip": null,
       "layout": "IPY_MODEL_ec70965212e94f48bcb26a06e35537ef",
       "max": 100,
       "min": 0,
       "orientation": "horizontal",
       "style": "IPY_MODEL_532bc91b170e41b3a629468eea9597e0",
       "value": 100
      }
     },
     "bd8e882a876c490cbbed0e87b47195f6": {
      "model_module": "@jupyter-widgets/base",
      "model_module_version": "1.2.0",
      "model_name": "LayoutModel",
      "state": {
       "_model_module": "@jupyter-widgets/base",
       "_model_module_version": "1.2.0",
       "_model_name": "LayoutModel",
       "_view_count": null,
       "_view_module": "@jupyter-widgets/base",
       "_view_module_version": "1.2.0",
       "_view_name": "LayoutView",
       "align_content": null,
       "align_items": null,
       "align_self": null,
       "border": null,
       "bottom": null,
       "display": null,
       "flex": null,
       "flex_flow": null,
       "grid_area": null,
       "grid_auto_columns": null,
       "grid_auto_flow": null,
       "grid_auto_rows": null,
       "grid_column": null,
       "grid_gap": null,
       "grid_row": null,
       "grid_template_areas": null,
       "grid_template_columns": null,
       "grid_template_rows": null,
       "height": null,
       "justify_content": null,
       "justify_items": null,
       "left": null,
       "margin": null,
       "max_height": null,
       "max_width": null,
       "min_height": null,
       "min_width": null,
       "object_fit": null,
       "object_position": null,
       "order": null,
       "overflow": null,
       "overflow_x": null,
       "overflow_y": null,
       "padding": null,
       "right": null,
       "top": null,
       "visibility": null,
       "width": "auto"
      }
     },
     "ec70965212e94f48bcb26a06e35537ef": {
      "model_module": "@jupyter-widgets/base",
      "model_module_version": "1.2.0",
      "model_name": "LayoutModel",
      "state": {
       "_model_module": "@jupyter-widgets/base",
       "_model_module_version": "1.2.0",
       "_model_name": "LayoutModel",
       "_view_count": null,
       "_view_module": "@jupyter-widgets/base",
       "_view_module_version": "1.2.0",
       "_view_name": "LayoutView",
       "align_content": null,
       "align_items": null,
       "align_self": null,
       "border": null,
       "bottom": null,
       "display": null,
       "flex": null,
       "flex_flow": null,
       "grid_area": null,
       "grid_auto_columns": null,
       "grid_auto_flow": null,
       "grid_auto_rows": null,
       "grid_column": null,
       "grid_gap": null,
       "grid_row": null,
       "grid_template_areas": null,
       "grid_template_columns": null,
       "grid_template_rows": null,
       "height": null,
       "justify_content": null,
       "justify_items": null,
       "left": null,
       "margin": null,
       "max_height": null,
       "max_width": null,
       "min_height": null,
       "min_width": null,
       "object_fit": null,
       "object_position": null,
       "order": null,
       "overflow": null,
       "overflow_x": null,
       "overflow_y": null,
       "padding": null,
       "right": null,
       "top": null,
       "visibility": null,
       "width": "auto"
      }
     }
    },
    "version_major": 2,
    "version_minor": 0
   }
  }
 },
 "nbformat": 4,
 "nbformat_minor": 5
}
